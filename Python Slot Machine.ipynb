{
 "cells": [
  {
   "cell_type": "code",
   "execution_count": null,
   "id": "490262e9-8ad9-4a52-a4b3-4cb24d11e59d",
   "metadata": {},
   "outputs": [
    {
     "name": "stdin",
     "output_type": "stream",
     "text": [
      "What would you like to deposit? $ 100\n"
     ]
    },
    {
     "name": "stdout",
     "output_type": "stream",
     "text": [
      "Current balance is $100\n"
     ]
    },
    {
     "name": "stdin",
     "output_type": "stream",
     "text": [
      "Press enter to play (q to quit). \n",
      "Enter the number of lines to bet on (1-3)?  3\n",
      "What would you like to bet on each line? $ 20\n"
     ]
    },
    {
     "name": "stdout",
     "output_type": "stream",
     "text": [
      "You are betting $20 on 3 lines. Total bet is equal to: $60\n",
      "C | C | B\n",
      "B | D | D\n",
      "D | A | C\n",
      "You won $0.\n",
      "You won on lines:\n",
      "Current balance is $40\n"
     ]
    },
    {
     "name": "stdin",
     "output_type": "stream",
     "text": [
      "Press enter to play (q to quit). \n",
      "Enter the number of lines to bet on (1-3)?  3\n",
      "What would you like to bet on each line? $ 5\n"
     ]
    },
    {
     "name": "stdout",
     "output_type": "stream",
     "text": [
      "You are betting $5 on 3 lines. Total bet is equal to: $15\n",
      "D | B | B\n",
      "D | C | D\n",
      "C | C | D\n",
      "You won $0.\n",
      "You won on lines:\n",
      "Current balance is $25\n"
     ]
    },
    {
     "name": "stdin",
     "output_type": "stream",
     "text": [
      "Press enter to play (q to quit). \n",
      "Enter the number of lines to bet on (1-3)?  2\n",
      "What would you like to bet on each line? $ 1\n"
     ]
    },
    {
     "name": "stdout",
     "output_type": "stream",
     "text": [
      "You are betting $1 on 2 lines. Total bet is equal to: $2\n",
      "D | C | D\n",
      "C | D | A\n",
      "B | D | D\n",
      "You won $0.\n",
      "You won on lines:\n",
      "Current balance is $23\n"
     ]
    },
    {
     "name": "stdin",
     "output_type": "stream",
     "text": [
      "Press enter to play (q to quit). \n",
      "Enter the number of lines to bet on (1-3)?  3\n",
      "What would you like to bet on each line? $ 2\n"
     ]
    },
    {
     "name": "stdout",
     "output_type": "stream",
     "text": [
      "You are betting $2 on 3 lines. Total bet is equal to: $6\n",
      "A | B | C\n",
      "B | B | C\n",
      "C | C | B\n",
      "You won $0.\n",
      "You won on lines:\n",
      "Current balance is $17\n"
     ]
    },
    {
     "name": "stdin",
     "output_type": "stream",
     "text": [
      "Press enter to play (q to quit). 3\n",
      "Enter the number of lines to bet on (1-3)?  3\n",
      "What would you like to bet on each line? $ 2\n"
     ]
    },
    {
     "name": "stdout",
     "output_type": "stream",
     "text": [
      "You are betting $2 on 3 lines. Total bet is equal to: $6\n",
      "C | B | C\n",
      "D | D | B\n",
      "B | C | A\n",
      "You won $0.\n",
      "You won on lines:\n",
      "Current balance is $11\n"
     ]
    },
    {
     "name": "stdin",
     "output_type": "stream",
     "text": [
      "Press enter to play (q to quit). 3\n",
      "Enter the number of lines to bet on (1-3)?  2\n",
      "What would you like to bet on each line? $ 2\n"
     ]
    },
    {
     "name": "stdout",
     "output_type": "stream",
     "text": [
      "You are betting $2 on 2 lines. Total bet is equal to: $4\n",
      "D | C | C\n",
      "D | D | D\n",
      "D | C | C\n",
      "You won $4.\n",
      "You won on lines: 2\n",
      "Current balance is $11\n"
     ]
    }
   ],
   "source": [
    "import random\n",
    "\n",
    "MAX_LINES = 3\n",
    "MAX_BET = 100\n",
    "MIN_BET = 1\n",
    "\n",
    "ROWS = 3\n",
    "COLS = 3\n",
    "\n",
    "symbol_count = {\n",
    "    \"A\": 2,\n",
    "    \"B\": 4,\n",
    "    \"C\": 6,\n",
    "    \"D\": 8\n",
    "}\n",
    "\n",
    "symbol_value = {\n",
    "    \"A\": 5,\n",
    "    \"B\": 4,\n",
    "    \"C\": 3,\n",
    "    \"D\": 2\n",
    "}\n",
    "\n",
    "\n",
    "def check_winnings(columns, lines, bet, values):\n",
    "    winnings = 0\n",
    "    winning_lines = []\n",
    "    for line in range(lines):\n",
    "        symbol = columns[0][line]\n",
    "        for column in columns:\n",
    "            symbol_to_check = column[line]\n",
    "            if symbol != symbol_to_check:\n",
    "                break\n",
    "        else:\n",
    "            winnings += values[symbol] * bet\n",
    "            winning_lines.append(line + 1)\n",
    "\n",
    "    return winnings, winning_lines\n",
    "\n",
    "\n",
    "def get_slot_machine_spin(rows, cols, symbols):\n",
    "    all_symbols = []\n",
    "    for symbol, symbol_count in symbols.items():\n",
    "        for _ in range(symbol_count):\n",
    "            all_symbols.append(symbol)\n",
    "\n",
    "    columns = []\n",
    "    for _ in range(cols):\n",
    "        column = []\n",
    "        current_symbols = all_symbols[:]\n",
    "        for _ in range(rows):\n",
    "            value = random.choice(current_symbols)\n",
    "            current_symbols.remove(value)\n",
    "            column.append(value)\n",
    "\n",
    "        columns.append(column)\n",
    "\n",
    "    return columns\n",
    "\n",
    "\n",
    "def print_slot_machine(columns):\n",
    "    for row in range(len(columns[0])):\n",
    "        for i, column in enumerate(columns):\n",
    "            if i != len(columns) - 1:\n",
    "                print(column[row], end=\" | \")\n",
    "            else:\n",
    "                print(column[row], end=\"\")\n",
    "\n",
    "        print()\n",
    "\n",
    "\n",
    "def deposit():\n",
    "    while True:\n",
    "        amount = input(\"What would you like to deposit? $\")\n",
    "        if amount.isdigit():\n",
    "            amount = int(amount)\n",
    "            if amount > 0:\n",
    "                break\n",
    "            else:\n",
    "                print(\"Amount must be greater than 0.\")\n",
    "        else:\n",
    "            print(\"Please enter a number.\")\n",
    "\n",
    "    return amount\n",
    "\n",
    "\n",
    "def get_number_of_lines():\n",
    "    while True:\n",
    "        lines = input(\n",
    "            \"Enter the number of lines to bet on (1-\" + str(MAX_LINES) + \")? \")\n",
    "        if lines.isdigit():\n",
    "            lines = int(lines)\n",
    "            if 1 <= lines <= MAX_LINES:\n",
    "                break\n",
    "            else:\n",
    "                print(\"Enter a valid number of lines.\")\n",
    "        else:\n",
    "            print(\"Please enter a number.\")\n",
    "\n",
    "    return lines\n",
    "\n",
    "\n",
    "def get_bet():\n",
    "    while True:\n",
    "        amount = input(\"What would you like to bet on each line? $\")\n",
    "        if amount.isdigit():\n",
    "            amount = int(amount)\n",
    "            if MIN_BET <= amount <= MAX_BET:\n",
    "                break\n",
    "            else:\n",
    "                print(f\"Amount must be between ${MIN_BET} - ${MAX_BET}.\")\n",
    "        else:\n",
    "            print(\"Please enter a number.\")\n",
    "\n",
    "    return amount\n",
    "\n",
    "\n",
    "def spin(balance):\n",
    "    lines = get_number_of_lines()\n",
    "    while True:\n",
    "        bet = get_bet()\n",
    "        total_bet = bet * lines\n",
    "\n",
    "        if total_bet > balance:\n",
    "            print(\n",
    "                f\"You do not have enough to bet that amount, your current balance is: ${balance}\")\n",
    "        else:\n",
    "            break\n",
    "\n",
    "    print(\n",
    "        f\"You are betting ${bet} on {lines} lines. Total bet is equal to: ${total_bet}\")\n",
    "\n",
    "    slots = get_slot_machine_spin(ROWS, COLS, symbol_count)\n",
    "    print_slot_machine(slots)\n",
    "    winnings, winning_lines = check_winnings(slots, lines, bet, symbol_value)\n",
    "    print(f\"You won ${winnings}.\")\n",
    "    print(f\"You won on lines:\", *winning_lines)\n",
    "    return winnings - total_bet\n",
    "\n",
    "\n",
    "def main():\n",
    "    balance = deposit()\n",
    "    while True:\n",
    "        print(f\"Current balance is ${balance}\")\n",
    "        answer = input(\"Press enter to play (q to quit).\")\n",
    "        if answer == \"q\":\n",
    "            break\n",
    "        balance += spin(balance)\n",
    "\n",
    "    print(f\"You left with ${balance}\")\n",
    "\n",
    "\n",
    "main()"
   ]
  },
  {
   "cell_type": "code",
   "execution_count": null,
   "id": "6f86e8ce-ebdf-43fc-b9e6-75b7eba01994",
   "metadata": {},
   "outputs": [],
   "source": []
  }
 ],
 "metadata": {
  "kernelspec": {
   "display_name": "Python 3 (ipykernel)",
   "language": "python",
   "name": "python3"
  },
  "language_info": {
   "codemirror_mode": {
    "name": "ipython",
    "version": 3
   },
   "file_extension": ".py",
   "mimetype": "text/x-python",
   "name": "python",
   "nbconvert_exporter": "python",
   "pygments_lexer": "ipython3",
   "version": "3.9.12"
  }
 },
 "nbformat": 4,
 "nbformat_minor": 5
}
